{
 "cells": [
  {
   "attachments": {},
   "cell_type": "markdown",
   "metadata": {},
   "source": [
    "# Experimento 1"
   ]
  },
  {
   "cell_type": "code",
   "execution_count": null,
   "metadata": {},
   "outputs": [],
   "source": [
    "import cv2\n",
    "import numpy as np"
   ]
  },
  {
   "cell_type": "code",
   "execution_count": null,
   "metadata": {},
   "outputs": [],
   "source": [
    "def loadImages(path, urls, target, size):\n",
    "    images = []\n",
    "    labels = []\n",
    "\n",
    "    height, width = 299,299\n",
    "    percentage_trim = 0.1\n",
    "\n",
    "    pixels_clipping = int(min(height, width) * percentage_trim)\n",
    "    \n",
    "    # for i in range(len(urls))\n",
    "    for i in range(size):\n",
    "        img_path = path+\"/\"+urls[i]\n",
    "        # normalization\n",
    "        img = cv2.imread(img_path) / 255.0\n",
    "        # Reducción de dimenionalidad\n",
    "        img = img[pixels_clipping:height-pixels_clipping, pixels_clipping:width-pixels_clipping]\n",
    "        \n",
    "        # to rezise images\n",
    "        # img = cv2.resize(img,(120,120))\n",
    "        # if img.shape != (241, 241):\n",
    "        #     img = np.dot(img[..., :3], [0.2989, 0.5870, 0.1140])\n",
    "        images.append(img)\n",
    "        labels.append(target)\n",
    "    \n",
    "    return np.asarray(images),labels"
   ]
  }
 ],
 "metadata": {
  "language_info": {
   "name": "python"
  },
  "orig_nbformat": 4
 },
 "nbformat": 4,
 "nbformat_minor": 2
}
